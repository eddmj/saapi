{
 "cells": [
  {
   "cell_type": "code",
   "execution_count": 1,
   "metadata": {},
   "outputs": [],
   "source": [
    "import pymongo"
   ]
  },
  {
   "cell_type": "code",
   "execution_count": 2,
   "metadata": {},
   "outputs": [
    {
     "data": {
      "text/plain": [
       "MongoClient('127.0.0.1', 27017)"
      ]
     },
     "execution_count": 2,
     "metadata": {},
     "output_type": "execute_result"
    }
   ],
   "source": [
    "from mongoengine import *\n",
    "\n",
    "connect('test')"
   ]
  },
  {
   "cell_type": "code",
   "execution_count": 6,
   "metadata": {},
   "outputs": [],
   "source": [
    "class User(Document):\n",
    "    email = StringField(required=True)\n",
    "    first_name = StringField(max_length=50)\n",
    "    last_name = StringField(max_length=50)"
   ]
  },
  {
   "cell_type": "code",
   "execution_count": 7,
   "metadata": {},
   "outputs": [],
   "source": [
    "ross = User(email='ross@example.com', first_name='Ross', last_name='Lawley').save()"
   ]
  },
  {
   "cell_type": "code",
   "execution_count": 1,
   "metadata": {},
   "outputs": [],
   "source": [
    "from api.models import *"
   ]
  },
  {
   "cell_type": "code",
   "execution_count": 2,
   "metadata": {},
   "outputs": [],
   "source": [
    "test = Test(name='kjfhdkfskdfh').save()"
   ]
  },
  {
   "cell_type": "code",
   "execution_count": 6,
   "metadata": {},
   "outputs": [],
   "source": [
    "customer = Customer(u_id=\"A0201C2N\",\n",
    "            name=\"0e2a7d1c-033c-4622-920f-5bda21825682\",\n",
    "            balance=\"74.44\",\n",
    "            currency= \"GBP\",\n",
    "            status= \"ACTIVE\",\n",
    "            identifiers= [\n",
    "                {\n",
    "                    \"type\": \"SCAN\",\n",
    "                    \"accountNumber\": \"00001531\",\n",
    "                    \"sortCode\": \"000000\"\n",
    "                }\n",
    "            ],\n",
    "            customer_id= \"C02013ZU\",\n",
    "            external_reference= \"GOJI-0017111\").save()"
   ]
  },
  {
   "cell_type": "code",
   "execution_count": 47,
   "metadata": {},
   "outputs": [
    {
     "name": "stdout",
     "output_type": "stream",
     "text": [
      "30\n"
     ]
    }
   ],
   "source": [
    "c = Customer.objects.all()\n",
    "print(len(c))"
   ]
  },
  {
   "cell_type": "code",
   "execution_count": 46,
   "metadata": {},
   "outputs": [
    {
     "name": "stdout",
     "output_type": "stream",
     "text": [
      "{'id': 'A0201C2N', 'name': '0e2a7d1c-033c-4622-920f-5bda21825682', 'balance': '74.44', 'currency': 'GBP', 'status': 'ACTIVE', 'identifiers': [{'type': 'SCAN', 'accountNumber': '00001531', 'sortCode': '000000'}], 'customerId': 'C02013ZU', 'externalReference': 'GOJI-0017111'}\n",
      "{'id': 'A02017NU', 'name': '1010 SOFTWARE LTD', 'balance': '46.91', 'currency': 'GBP', 'status': 'ACTIVE', 'identifiers': [{'type': 'SCAN', 'accountNumber': '00001232', 'sortCode': '000000'}], 'customerId': 'C0200098', 'externalReference': 'Account 1'}\n",
      "{'id': 'A02001WF', 'name': '1010 SOFTWARE LTD', 'balance': '0.04', 'currency': 'GBP', 'status': 'ACTIVE', 'identifiers': [{'type': 'SCAN', 'accountNumber': '48916325', 'sortCode': '068759'}], 'customerId': 'C0200098', 'externalReference': 'Pizza Money 2'}\n",
      "{'id': 'A020000P', 'name': '123456789 LIMITED', 'balance': '0.00', 'currency': 'GBP', 'status': 'ACTIVE', 'identifiers': [{'type': 'SCAN', 'accountNumber': '16317560', 'sortCode': '068759'}], 'customerId': 'C020005K', 'externalReference': 'ujhygf'}\n",
      "{'id': 'A0200012', 'name': '1989', 'balance': '0.00', 'currency': 'GBP', 'status': 'ACTIVE', 'identifiers': [{'type': 'SCAN', 'accountNumber': '44358410', 'sortCode': '068759'}], 'customerId': 'C020003T', 'externalReference': 'The clear dont work 1'}\n",
      "{'id': 'A02001W0', 'name': '1sd', 'balance': '0.00', 'currency': 'GBP', 'status': 'ACTIVE', 'identifiers': [{'type': 'SCAN', 'accountNumber': '92450371', 'sortCode': '068759'}], 'customerId': 'C020009D'}\n",
      "{'id': 'A0201C41', 'name': '35204131-8f31-4fc7-9ba8-d51ea57c1887', 'balance': '0.00', 'currency': 'GBP', 'status': 'ACTIVE', 'identifiers': [{'type': 'SCAN', 'accountNumber': '00001577', 'sortCode': '000000'}], 'customerId': 'C0201417', 'externalReference': 'GOJI-001'}\n",
      "{'id': 'A02017NV', 'name': '3bed1e1f-a00b-4a4c-83c1-e81eb40c5477', 'balance': '0.00', 'currency': 'GBP', 'status': 'ACTIVE', 'identifiers': [{'type': 'SCAN', 'accountNumber': '00001233', 'sortCode': '000000'}], 'customerId': 'C02010AV', 'externalReference': 'GOJI-001'}\n",
      "{'id': 'A02019R9', 'name': '58b7802c-db96-49f7-ad93-7ec0b2ea0881', 'balance': '0.00', 'currency': 'GBP', 'status': 'ACTIVE', 'identifiers': [{'type': 'SCAN', 'accountNumber': '00001300', 'sortCode': '000000'}], 'customerId': 'C0201212', 'externalReference': 'GOJI-001'}\n",
      "{'id': 'A020000U', 'name': '8202711021', 'balance': '0.00', 'currency': 'GBP', 'status': 'ACTIVE', 'identifiers': [{'type': 'SCAN', 'accountNumber': '26207260', 'sortCode': '068759'}], 'customerId': 'C0200079'}\n",
      "{'id': 'A02017NW', 'name': '850192fc-579e-493c-8940-4e2fb4377c9e', 'balance': '2977.99', 'currency': 'GBP', 'status': 'ACTIVE', 'identifiers': [{'type': 'SCAN', 'accountNumber': '00001234', 'sortCode': '000000'}], 'customerId': 'C02010AW', 'externalReference': 'GOJI-001'}\n",
      "{'id': 'A0201C3R', 'name': '9c96416e-ca24-47c1-a50a-1d42c6beadbc', 'balance': '0.00', 'currency': 'GBP', 'status': 'ACTIVE', 'identifiers': [{'type': 'SCAN', 'accountNumber': '00001567', 'sortCode': '000000'}], 'customerId': 'C020140X', 'externalReference': 'GOJI-001'}\n",
      "{'id': 'A0201C48', 'name': '9cdb96eb-c679-45cf-b64a-791daf394302', 'balance': '0.00', 'currency': 'GBP', 'status': 'ACTIVE', 'identifiers': [{'type': 'SCAN', 'accountNumber': '00001584', 'sortCode': '000000'}], 'customerId': 'C020141E', 'externalReference': 'GOJI-001'}\n",
      "{'id': 'A02029KY', 'name': '-A-', 'balance': '0.00', 'currency': 'GBP', 'status': 'ACTIVE', 'identifiers': [{'type': 'SCAN', 'accountNumber': '01832132', 'sortCode': '236972'}], 'customerId': 'C0201X7E'}\n",
      "{'id': 'A02029VF', 'name': '.A.', 'balance': '0.00', 'currency': 'GBP', 'status': 'ACTIVE', 'identifiers': [{'type': 'SCAN', 'accountNumber': '01832199', 'sortCode': '236972'}], 'customerId': 'C0201XEX'}\n"
     ]
    }
   ],
   "source": [
    "import json\n",
    "from django.core import exceptions\n",
    "def load_data(filename='seed_data.json', clear_db=False):\n",
    "    if clear_db==True:\n",
    "        try:\n",
    "            Customer.objects.all().delete()\n",
    "        except Exception as e:\n",
    "            print(e)\n",
    "    with open(filename) as data_file:\n",
    "        data = json.load(data_file)\n",
    "        for n in data['content']:\n",
    "            print(n)\n",
    "            if 'externalReference' in n:\n",
    "                external_reference = n['externalReference']\n",
    "            Customer(\n",
    "            u_id = n['id'],\n",
    "            name = n['name'],\n",
    "            balance = n['balance'],\n",
    "            currency = n['currency'],\n",
    "            status = n['status'],\n",
    "            identifiers = n['identifiers'],\n",
    "            customer_id = n['customerId'],\n",
    "            external_reference = external_reference\n",
    "            ).save()\n",
    "    \n",
    "load_data(clear_db=False)"
   ]
  },
  {
   "cell_type": "code",
   "execution_count": 33,
   "metadata": {},
   "outputs": [
    {
     "name": "stdout",
     "output_type": "stream",
     "text": [
      "A0201C2N\n",
      "Has external\n",
      "A02017NU\n",
      "Has external\n",
      "A02001WF\n",
      "Has external\n",
      "A020000P\n",
      "Has external\n",
      "A0200012\n",
      "Has external\n",
      "A02001W0\n",
      "No external\n",
      "A0201C41\n",
      "Has external\n",
      "A02017NV\n",
      "Has external\n",
      "A02019R9\n",
      "Has external\n",
      "A020000U\n",
      "No external\n",
      "A02017NW\n",
      "Has external\n",
      "A0201C3R\n",
      "Has external\n",
      "A0201C48\n",
      "Has external\n",
      "A02029KY\n",
      "No external\n",
      "A02029VF\n",
      "No external\n"
     ]
    }
   ],
   "source": [
    "def mini_load():\n",
    "    filename = 'seed_data.json'\n",
    "    with open(filename) as data_file:\n",
    "        data = json.load(data_file)\n",
    "        for n in data['content']:\n",
    "            if 'externalReference' in n:\n",
    "                print(n['id'])\n",
    "                print('Has external')\n",
    "            else:\n",
    "                print(n['id'])\n",
    "                print('No external')\n",
    "        \n",
    "mini_load()"
   ]
  },
  {
   "cell_type": "code",
   "execution_count": null,
   "metadata": {},
   "outputs": [],
   "source": []
  }
 ],
 "metadata": {
  "kernelspec": {
   "display_name": "Django Shell-Plus",
   "language": "python",
   "name": "django_extensions"
  },
  "language_info": {
   "codemirror_mode": {
    "name": "ipython",
    "version": 3
   },
   "file_extension": ".py",
   "mimetype": "text/x-python",
   "name": "python",
   "nbconvert_exporter": "python",
   "pygments_lexer": "ipython3",
   "version": "3.6.1"
  }
 },
 "nbformat": 4,
 "nbformat_minor": 2
}
