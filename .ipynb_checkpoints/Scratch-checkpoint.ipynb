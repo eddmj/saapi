{
 "cells": [
  {
   "cell_type": "code",
   "execution_count": 1,
   "metadata": {},
   "outputs": [],
   "source": [
    "import pymongo"
   ]
  },
  {
   "cell_type": "code",
   "execution_count": 2,
   "metadata": {},
   "outputs": [
    {
     "data": {
      "text/plain": [
       "MongoClient('127.0.0.1', 27017)"
      ]
     },
     "execution_count": 2,
     "metadata": {},
     "output_type": "execute_result"
    }
   ],
   "source": [
    "from mongoengine import *\n",
    "\n",
    "connect('test')"
   ]
  },
  {
   "cell_type": "code",
   "execution_count": 3,
   "metadata": {},
   "outputs": [],
   "source": [
    "class User(Document):\n",
    "    email = StringField(required=True)\n",
    "    first_name = StringField(max_length=50)\n",
    "    last_name = StringField(max_length=50)"
   ]
  },
  {
   "cell_type": "code",
   "execution_count": 4,
   "metadata": {},
   "outputs": [],
   "source": [
    "ross = User(email='ross@example.com', first_name='Ross', last_name='Lawley').save()"
   ]
  },
  {
   "cell_type": "code",
   "execution_count": 5,
   "metadata": {},
   "outputs": [],
   "source": [
    "from api.models import *"
   ]
  },
  {
   "cell_type": "code",
   "execution_count": 6,
   "metadata": {},
   "outputs": [
    {
     "ename": "NameError",
     "evalue": "name 'Test' is not defined",
     "output_type": "error",
     "traceback": [
      "\u001b[0;31m---------------------------------------------------------------------------\u001b[0m",
      "\u001b[0;31mNameError\u001b[0m                                 Traceback (most recent call last)",
      "\u001b[0;32m<ipython-input-6-2b11d4b6fa5d>\u001b[0m in \u001b[0;36m<module>\u001b[0;34m()\u001b[0m\n\u001b[0;32m----> 1\u001b[0;31m \u001b[0mtest\u001b[0m \u001b[0;34m=\u001b[0m \u001b[0mTest\u001b[0m\u001b[0;34m(\u001b[0m\u001b[0mname\u001b[0m\u001b[0;34m=\u001b[0m\u001b[0;34m'kjfhdkfskdfh'\u001b[0m\u001b[0;34m)\u001b[0m\u001b[0;34m.\u001b[0m\u001b[0msave\u001b[0m\u001b[0;34m(\u001b[0m\u001b[0;34m)\u001b[0m\u001b[0;34m\u001b[0m\u001b[0m\n\u001b[0m",
      "\u001b[0;31mNameError\u001b[0m: name 'Test' is not defined"
     ]
    }
   ],
   "source": [
    "test = Test(name='kjfhdkfskdfh').save()"
   ]
  },
  {
   "cell_type": "code",
   "execution_count": null,
   "metadata": {},
   "outputs": [],
   "source": [
    "customer = Customer(u_id=\"A0201C2N\",\n",
    "            name=\"0e2a7d1c-033c-4622-920f-5bda21825682\",\n",
    "            balance=\"74.44\",\n",
    "            currency= \"GBP\",\n",
    "            status= \"ACTIVE\",\n",
    "            identifiers= [\n",
    "                {\n",
    "                    \"type\": \"SCAN\",\n",
    "                    \"accountNumber\": \"00001531\",\n",
    "                    \"sortCode\": \"000000\"\n",
    "                }\n",
    "            ],\n",
    "            customer_id= \"C02013ZU\",\n",
    "            external_reference= \"GOJI-0017111\").save()"
   ]
  },
  {
   "cell_type": "code",
   "execution_count": 20,
   "metadata": {},
   "outputs": [
    {
     "name": "stdout",
     "output_type": "stream",
     "text": [
      "15\n"
     ]
    }
   ],
   "source": [
    "from api.models import Customer\n",
    "c = Customer.objects.all()\n",
    "print(len(c))"
   ]
  },
  {
   "cell_type": "code",
   "execution_count": 19,
   "metadata": {},
   "outputs": [
    {
     "name": "stdout",
     "output_type": "stream",
     "text": [
      "{'id': 'A0201C2N', 'name': '0e2a7d1c-033c-4622-920f-5bda21825682', 'balance': '74.44', 'currency': 'GBP', 'status': 'ACTIVE', 'identifiers': [{'type': 'SCAN', 'accountNumber': '00001531', 'sortCode': '000000'}], 'customerId': 'C02013ZU', 'externalReference': 'GOJI-0017111'}\n",
      "{'id': 'A02017NU', 'name': '1010 SOFTWARE LTD', 'balance': '46.91', 'currency': 'GBP', 'status': 'ACTIVE', 'identifiers': [{'type': 'SCAN', 'accountNumber': '00001232', 'sortCode': '000000'}], 'customerId': 'C0200098', 'externalReference': 'Account 1'}\n",
      "{'id': 'A02001WF', 'name': '1010 SOFTWARE LTD', 'balance': '0.04', 'currency': 'GBP', 'status': 'ACTIVE', 'identifiers': [{'type': 'SCAN', 'accountNumber': '48916325', 'sortCode': '068759'}], 'customerId': 'C0200098', 'externalReference': 'Pizza Money 2'}\n",
      "{'id': 'A020000P', 'name': '123456789 LIMITED', 'balance': '0.00', 'currency': 'GBP', 'status': 'ACTIVE', 'identifiers': [{'type': 'SCAN', 'accountNumber': '16317560', 'sortCode': '068759'}], 'customerId': 'C020005K', 'externalReference': 'ujhygf'}\n",
      "{'id': 'A0200012', 'name': '1989', 'balance': '0.00', 'currency': 'GBP', 'status': 'ACTIVE', 'identifiers': [{'type': 'SCAN', 'accountNumber': '44358410', 'sortCode': '068759'}], 'customerId': 'C020003T', 'externalReference': 'The clear dont work 1'}\n",
      "{'id': 'A02001W0', 'name': '1sd', 'balance': '0.00', 'currency': 'GBP', 'status': 'ACTIVE', 'identifiers': [{'type': 'SCAN', 'accountNumber': '92450371', 'sortCode': '068759'}], 'customerId': 'C020009D'}\n",
      "{'id': 'A0201C41', 'name': '35204131-8f31-4fc7-9ba8-d51ea57c1887', 'balance': '0.00', 'currency': 'GBP', 'status': 'ACTIVE', 'identifiers': [{'type': 'SCAN', 'accountNumber': '00001577', 'sortCode': '000000'}], 'customerId': 'C0201417', 'externalReference': 'GOJI-001'}\n",
      "{'id': 'A02017NV', 'name': '3bed1e1f-a00b-4a4c-83c1-e81eb40c5477', 'balance': '0.00', 'currency': 'GBP', 'status': 'ACTIVE', 'identifiers': [{'type': 'SCAN', 'accountNumber': '00001233', 'sortCode': '000000'}], 'customerId': 'C02010AV', 'externalReference': 'GOJI-001'}\n",
      "{'id': 'A02019R9', 'name': '58b7802c-db96-49f7-ad93-7ec0b2ea0881', 'balance': '0.00', 'currency': 'GBP', 'status': 'ACTIVE', 'identifiers': [{'type': 'SCAN', 'accountNumber': '00001300', 'sortCode': '000000'}], 'customerId': 'C0201212', 'externalReference': 'GOJI-001'}\n",
      "{'id': 'A020000U', 'name': '8202711021', 'balance': '0.00', 'currency': 'GBP', 'status': 'ACTIVE', 'identifiers': [{'type': 'SCAN', 'accountNumber': '26207260', 'sortCode': '068759'}], 'customerId': 'C0200079'}\n",
      "{'id': 'A02017NW', 'name': '850192fc-579e-493c-8940-4e2fb4377c9e', 'balance': '2977.99', 'currency': 'GBP', 'status': 'ACTIVE', 'identifiers': [{'type': 'SCAN', 'accountNumber': '00001234', 'sortCode': '000000'}], 'customerId': 'C02010AW', 'externalReference': 'GOJI-001'}\n",
      "{'id': 'A0201C3R', 'name': '9c96416e-ca24-47c1-a50a-1d42c6beadbc', 'balance': '0.00', 'currency': 'GBP', 'status': 'ACTIVE', 'identifiers': [{'type': 'SCAN', 'accountNumber': '00001567', 'sortCode': '000000'}], 'customerId': 'C020140X', 'externalReference': 'GOJI-001'}\n",
      "{'id': 'A0201C48', 'name': '9cdb96eb-c679-45cf-b64a-791daf394302', 'balance': '0.00', 'currency': 'GBP', 'status': 'ACTIVE', 'identifiers': [{'type': 'SCAN', 'accountNumber': '00001584', 'sortCode': '000000'}], 'customerId': 'C020141E', 'externalReference': 'GOJI-001'}\n",
      "{'id': 'A02029KY', 'name': '-A-', 'balance': '0.00', 'currency': 'GBP', 'status': 'ACTIVE', 'identifiers': [{'type': 'SCAN', 'accountNumber': '01832132', 'sortCode': '236972'}], 'customerId': 'C0201X7E'}\n",
      "{'id': 'A02029VF', 'name': '.A.', 'balance': '0.00', 'currency': 'GBP', 'status': 'ACTIVE', 'identifiers': [{'type': 'SCAN', 'accountNumber': '01832199', 'sortCode': '236972'}], 'customerId': 'C0201XEX'}\n"
     ]
    }
   ],
   "source": [
    "import json\n",
    "from django.core import exceptions\n",
    "def load_data(filename='seed_data.json', clear_db=False):\n",
    "    if clear_db==True:\n",
    "        try:\n",
    "            Customer.objects.all().delete()\n",
    "        except Exception as e:\n",
    "            print(e)\n",
    "    with open(filename) as data_file:\n",
    "        data = json.load(data_file)\n",
    "        for n in data['content']:\n",
    "            print(n)\n",
    "            external_reference=None\n",
    "            if 'externalReference' in n:\n",
    "                external_reference = n['externalReference']\n",
    "            Customer(\n",
    "            u_id = n['id'],\n",
    "            name = n['name'],\n",
    "            balance = n['balance'],\n",
    "            currency = n['currency'],\n",
    "            customer_status = n['status'],\n",
    "            identifiers = n['identifiers'],\n",
    "            customer_id = n['customerId'],\n",
    "            external_reference = external_reference\n",
    "            ).save()\n",
    "    \n",
    "load_data(clear_db=True)"
   ]
  },
  {
   "cell_type": "code",
   "execution_count": null,
   "metadata": {},
   "outputs": [],
   "source": [
    "def mini_load():\n",
    "    filename = 'seed_data.json'\n",
    "    with open(filename) as data_file:\n",
    "        data = json.load(data_file)\n",
    "        for n in data['content']:\n",
    "            if 'externalReference' in n:\n",
    "                print(n['id'])\n",
    "                print('Has external')\n",
    "            else:\n",
    "                print(n['id'])\n",
    "                print('No external')\n",
    "        \n",
    "mini_load()"
   ]
  },
  {
   "cell_type": "code",
   "execution_count": null,
   "metadata": {},
   "outputs": [],
   "source": [
    "id = 'A02019R9'\n",
    "c = Customer.objects.get(u_id=id)\n",
    "content = {\n",
    "        'status': 'successful',\n",
    "        'customer_id': c.u_id,\n",
    "    }\n",
    "print(content)"
   ]
  },
  {
   "cell_type": "code",
   "execution_count": null,
   "metadata": {},
   "outputs": [],
   "source": [
    "id = 'A02029KY'\n",
    "c = Customer.objects.get(u_id=id)\n",
    "external_reference = None\n",
    "content = {\n",
    "        \"status\": \"success\",\n",
    "        \"id\": c.u_id,\n",
    "        \"name\": c.name,\n",
    "        \"balance\": c.balance,\n",
    "        \"currency\": c.currency,\n",
    "        \"status\": c.customer_status,\n",
    "        \"identifiers\": c.identifiers,\n",
    "        \"customerId\": c.customer_id,\n",
    "    }\n",
    "print(c.external_reference)\n",
    "if 'external_reference' in c and not None:\n",
    "    content['externalReference']=c.external_reference\n",
    "print(content)"
   ]
  },
  {
   "cell_type": "code",
   "execution_count": null,
   "metadata": {},
   "outputs": [],
   "source": [
    "from decimal import Decimal\n",
    "d = Customer.objects.all()\n",
    "list = []\n",
    "for c in d:\n",
    "    list.append(c.balance)\n",
    "print(list)\n",
    "print(len(list))"
   ]
  },
  {
   "cell_type": "code",
   "execution_count": null,
   "metadata": {},
   "outputs": [],
   "source": [
    "balance = Decimal(0.00)\n",
    "for l in list:\n",
    "    if l == balance:\n",
    "        print('match')\n",
    "    else:\n",
    "        print('no')"
   ]
  },
  {
   "cell_type": "code",
   "execution_count": null,
   "metadata": {},
   "outputs": [],
   "source": [
    "d = Customer.objects.get(balance = Decimal(46.91))\n",
    "print(d.customer_id)"
   ]
  },
  {
   "cell_type": "code",
   "execution_count": 2,
   "metadata": {},
   "outputs": [
    {
     "name": "stdout",
     "output_type": "stream",
     "text": [
      "20171101110417263_pRLdLbiENsHDbiEvfAHHkg\n"
     ]
    }
   ],
   "source": [
    "import datetime\n",
    "import shortuuid\n",
    "from api.models import AbstractUser\n",
    "stamp = datetime.datetime.utcnow().strftime('%Y%m%d%H%M%S%f')[:-3]\n",
    "key = '{}_{}'.format(str(stamp), shortuuid.uuid())\n",
    "print(key)"
   ]
  },
  {
   "cell_type": "code",
   "execution_count": 12,
   "metadata": {},
   "outputs": [
    {
     "name": "stdout",
     "output_type": "stream",
     "text": [
      "user exists\n"
     ]
    }
   ],
   "source": [
    "email = 'test@kjdsfhkfd.com'\n",
    "if email in AbstractUser.objects.all().values_list('email'):\n",
    "    print('user exists')\n",
    "else:\n",
    "    AbstractUser.objects.create(\n",
    "            email = 'test@kjdsfhkfd.com',\n",
    "            password = 'djfhkjdshfkhsdkjh',\n",
    "            token = key\n",
    "        ).save()"
   ]
  },
  {
   "cell_type": "code",
   "execution_count": 22,
   "metadata": {},
   "outputs": [
    {
     "data": {
      "text/plain": [
       "9"
      ]
     },
     "execution_count": 22,
     "metadata": {},
     "output_type": "execute_result"
    }
   ],
   "source": [
    "AbstractUser.objects.all().delete()"
   ]
  },
  {
   "cell_type": "code",
   "execution_count": 29,
   "metadata": {},
   "outputs": [
    {
     "name": "stdout",
     "output_type": "stream",
     "text": [
      "1\n",
      "20171101111537140_8HMJrThsV6mM7FaiQCqdhS\n"
     ]
    }
   ],
   "source": [
    "a = AbstractUser.objects.all()\n",
    "print(len(a))\n",
    "for b in a:\n",
    "    print(b.token)"
   ]
  },
  {
   "cell_type": "code",
   "execution_count": null,
   "metadata": {},
   "outputs": [],
   "source": []
  }
 ],
 "metadata": {
  "kernelspec": {
   "display_name": "Django Shell-Plus",
   "language": "python",
   "name": "django_extensions"
  },
  "language_info": {
   "codemirror_mode": {
    "name": "ipython",
    "version": 3
   },
   "file_extension": ".py",
   "mimetype": "text/x-python",
   "name": "python",
   "nbconvert_exporter": "python",
   "pygments_lexer": "ipython3",
   "version": "3.6.1"
  }
 },
 "nbformat": 4,
 "nbformat_minor": 2
}
